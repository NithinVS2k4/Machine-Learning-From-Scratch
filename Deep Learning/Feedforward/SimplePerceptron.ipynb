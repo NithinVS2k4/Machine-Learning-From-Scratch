{
 "cells": [
  {
   "cell_type": "markdown",
   "id": "49e431e2-e9f8-450a-aa95-a514d5baf412",
   "metadata": {},
   "source": [
    "# Simple Perceptron"
   ]
  },
  {
   "cell_type": "code",
   "execution_count": 156,
   "id": "45977352-ed5e-44ea-a508-86534c9418d0",
   "metadata": {},
   "outputs": [],
   "source": [
    "import numpy as np\n",
    "import matplotlib.pyplot as plt\n",
    "from os.path import join"
   ]
  },
  {
   "cell_type": "code",
   "execution_count": 158,
   "id": "63e3a4ef-a37e-41c0-9db5-45403eb6e9d1",
   "metadata": {},
   "outputs": [],
   "source": [
    "\n",
    "input_path = ''\n",
    "training_images_filepath = join(input_path, 'MNIST/train-images-idx3-ubyte/train-images-idx3-ubyte')\n",
    "training_labels_filepath = join(input_path, 'MNIST/train-labels-idx1-ubyte/train-labels-idx1-ubyte')\n",
    "test_images_filepath = join(input_path, 'MNIST/t10k-images-idx3-ubyte/t10k-images-idx3-ubyte')\n",
    "test_labels_filepath = join(input_path, 'MNIST/t10k-labels-idx1-ubyte/t10k-labels-idx1-ubyte')"
   ]
  },
  {
   "cell_type": "code",
   "execution_count": 160,
   "id": "6b60f4be-e833-426d-a463-6d8ca96d378d",
   "metadata": {},
   "outputs": [],
   "source": [
    "import numpy as np # linear algebra\n",
    "import struct\n",
    "from array import array\n",
    "from os.path  import join\n",
    "import random\n",
    "import matplotlib.pyplot as plt\n",
    "from copy import deepcopy\n",
    "\n",
    "\n",
    "#\n",
    "# MNIST Data Loader Class\n",
    "#\n",
    "class MnistDataloader(object):\n",
    "    def __init__(self, training_images_filepath,training_labels_filepath,\n",
    "                 test_images_filepath, test_labels_filepath):\n",
    "        self.training_images_filepath = training_images_filepath\n",
    "        self.training_labels_filepath = training_labels_filepath\n",
    "        self.test_images_filepath = test_images_filepath\n",
    "        self.test_labels_filepath = test_labels_filepath\n",
    "\n",
    "    def read_images_labels(self, images_filepath, labels_filepath):\n",
    "        labels = []\n",
    "        with open(labels_filepath, 'rb') as file:\n",
    "            magic, size = struct.unpack(\">II\", file.read(8))\n",
    "            if magic != 2049:\n",
    "                raise ValueError('Magic number mismatch, expected 2049, got {}'.format(magic))\n",
    "            labels = array(\"B\", file.read())\n",
    "\n",
    "        with open(images_filepath, 'rb') as file:\n",
    "            magic, size, rows, cols = struct.unpack(\">IIII\", file.read(16))\n",
    "            if magic != 2051:\n",
    "                raise ValueError('Magic number mismatch, expected 2051, got {}'.format(magic))\n",
    "            image_data = array(\"B\", file.read())\n",
    "        images = []\n",
    "        for i in range(size):\n",
    "            images.append([0] * rows * cols)\n",
    "        for i in range(size):\n",
    "            img = np.array(image_data[i * rows * cols:(i + 1) * rows * cols])\n",
    "            img = img/255\n",
    "            img = img.reshape(28, 28)\n",
    "            images[i][:] = img\n",
    "\n",
    "        return images, labels\n",
    "\n",
    "    def load_data(self,load_train=True,augment=False,replace_set=True, num_of_copies=1, binary = False):\n",
    "        if load_train:\n",
    "            x_train, y_train = self.read_images_labels(self.training_images_filepath, self.training_labels_filepath)\n",
    "        else: x_train,y_train = ([],[])\n",
    "        x_test, y_test = self.read_images_labels(self.test_images_filepath, self.test_labels_filepath)\n",
    "        if augment:\n",
    "            if load_train:\n",
    "                x_train, y_train = augment_data(x_train,y_train,replace_set,num_of_copies,binary=binary)\n",
    "            x_test, y_test = augment_data(x_test, y_test,binary= binary, replace_set=True, num_of_copies=1)\n",
    "        return (x_train, y_train),(x_test, y_test)\n",
    "\n",
    "\n",
    "def image_shift(image,shift=None,shift_x = True,shift_y = True):\n",
    "    image = np.asarray(image)\n",
    "    if shift is None:\n",
    "        if shift_x:\n",
    "            x_shift = random.randint(-3,3)\n",
    "        else:\n",
    "            x_shift = 0\n",
    "        if shift_y:\n",
    "            y_shift = random.randint(-3,3)\n",
    "        else:\n",
    "            y_shift = 0\n",
    "    else: x_shift,y_shift = shift\n",
    "    if x_shift >= 0:\n",
    "        # Remove columns from the left and pad with zeros on the right\n",
    "        image = image[:, x_shift:]  # Remove columns from the left\n",
    "        image = np.hstack((image, np.zeros((image.shape[0], x_shift))))  # Pad with zeros on the right\n",
    "    else:\n",
    "        # Remove columns from the right and pad with zeros on the left\n",
    "        image = image[:, :image.shape[1] + x_shift]  # Remove columns from the right\n",
    "        image = np.hstack((np.zeros((image.shape[0], abs(x_shift))), image))  # Pad with zeros on the left\n",
    "\n",
    "    if y_shift >= 0:\n",
    "        # Remove rows from the top and pad with zeros at the bottom\n",
    "        image = image[y_shift:, :]  # Remove rows from the top\n",
    "        image = np.vstack((image, np.zeros((y_shift, image.shape[1]))))  # Pad with zeros at the bottom\n",
    "    else:\n",
    "        # Remove rows from the bottom and pad with zeros at the top\n",
    "        image = image[:image.shape[0] + y_shift, :]  # Remove rows from the bottom\n",
    "        image = np.vstack((np.zeros((abs(y_shift), image.shape[1])), image))\n",
    "    return image\n",
    "\n",
    "def apply_noise(image,num_of_points=None):\n",
    "    if num_of_points is None:\n",
    "        num_of_points = random.randint(5,20)\n",
    "    image = deepcopy(image)\n",
    "    for _ in range(num_of_points):\n",
    "        x,y = np.random.randint(0,28,2)\n",
    "        noise = np.random.uniform(0,1)\n",
    "        image[x][y] = np.clip(image[x][y]+noise,0.0,1.0)\n",
    "    return image\n",
    "\n",
    "\n",
    "def augment_data(x, y, replace_set=False, num_of_copies=9, binary = False):\n",
    "    if replace_set or binary:\n",
    "        x_new = []\n",
    "        y_new = []\n",
    "    else:\n",
    "        x_new = deepcopy(x)\n",
    "        y_new = deepcopy(y)\n",
    "    for i,image in enumerate(x):\n",
    "        if binary:\n",
    "            if y[i] in [0,1]:\n",
    "                y_new.append(y[i])\n",
    "                x_new.append(image)\n",
    "        else:\n",
    "            for _ in range(num_of_copies):\n",
    "                shifted_image = image_shift(image)\n",
    "                # shifted_image = apply_noise(shifted_image)\n",
    "                x_new.append(shifted_image)\n",
    "                y_new.append(y[i])\n",
    "    return x_new,y_new\n",
    "\n",
    "\n",
    "mnist_dataloader = MnistDataloader(training_images_filepath, training_labels_filepath, test_images_filepath, test_labels_filepath)\n",
    "(x_train, y_train), (x_test, y_test) = mnist_dataloader.load_data(augment=True, binary = True)"
   ]
  },
  {
   "cell_type": "code",
   "execution_count": 161,
   "id": "7e7d25d0-4111-4a45-b6e4-edc8ef03c5b4",
   "metadata": {},
   "outputs": [],
   "source": [
    "x_train = np.asarray(x_train).reshape(-1,784)\n",
    "y_train = np.asarray(y_train)\n",
    "x_test = np.asarray(x_test).reshape(-1,784)\n",
    "y_test = np.asarray(y_test)"
   ]
  },
  {
   "cell_type": "code",
   "execution_count": 162,
   "id": "29fa84ab-b4bd-41e6-a110-79bc0b6974a9",
   "metadata": {},
   "outputs": [],
   "source": [
    "for i in range(len(y_train)):\n",
    "    if y_train[i] == 0:\n",
    "        y_train[i] = -1\n",
    "\n",
    "for i in range(len(y_test)):\n",
    "    if y_test[i] == 0:     \n",
    "        y_test[i] = -1\n"
   ]
  },
  {
   "cell_type": "code",
   "execution_count": 163,
   "id": "b9f2046d-b8c8-48d6-87d2-670b162723d5",
   "metadata": {},
   "outputs": [
    {
     "data": {
      "text/plain": [
       "(12665,)"
      ]
     },
     "execution_count": 163,
     "metadata": {},
     "output_type": "execute_result"
    }
   ],
   "source": [
    "y_train.shape"
   ]
  },
  {
   "cell_type": "code",
   "execution_count": 164,
   "id": "8232547a-f858-4fa4-9745-779676752dfa",
   "metadata": {},
   "outputs": [
    {
     "data": {
      "text/plain": [
       "(2115, 784)"
      ]
     },
     "execution_count": 164,
     "metadata": {},
     "output_type": "execute_result"
    }
   ],
   "source": [
    "x_test.shape"
   ]
  },
  {
   "cell_type": "code",
   "execution_count": 165,
   "id": "e0051ad3-785c-4d4d-8d49-5eddf40e7ab6",
   "metadata": {},
   "outputs": [],
   "source": [
    "class SimplePerceptron:\n",
    "    def __init__(self, dim):\n",
    "        self.dim = dim\n",
    "        self.W = np.random.uniform(-1,1, (1,self.dim))\n",
    "        self.B = np.random.uniform(-1,1)\n",
    "\n",
    "    def forward(self, X):\n",
    "        return np.sign(np.dot(X,self.W.T) + self.B)\n",
    "\n",
    "    def backward(self, X, y_true, y_pred, learning_rate = 0.001):\n",
    "        misclassified_idx = np.where(y_pred != y_true)[0]\n",
    "\n",
    "        x_misclassified = X[misclassified_idx]\n",
    "        y_misclassified = y_true[misclassified_idx]\n",
    "\n",
    "        self.W += learning_rate * np.dot(y_misclassified, x_misclassified) \n",
    "        self.B += learning_rate * np.sum(y_misclassified)"
   ]
  },
  {
   "cell_type": "code",
   "execution_count": 166,
   "id": "8f587234-8fe4-4cb0-a094-2df457be0995",
   "metadata": {},
   "outputs": [
    {
     "name": "stdout",
     "output_type": "stream",
     "text": [
      "20% completed.\n",
      "40% completed.\n",
      "60% completed.\n",
      "80% completed.\n",
      "100% completed.\n"
     ]
    }
   ],
   "source": [
    "perceptron = SimplePerceptron(784)\n",
    "\n",
    "epochs = 90\n",
    "lr = 0.001\n",
    "num_batches = 10\n",
    "batch_size_train = len(x_train)//num_batches\n",
    "batch_size_test = len(x_test)//num_batches\n",
    "\n",
    "accuracies = []\n",
    "\n",
    "for epoch in range(epochs):\n",
    "\n",
    "    if (epoch + 1)%(epochs//5) == 0:\n",
    "        print(f\"{100*(epoch + 1)//(epochs)}% completed.\")\n",
    "    accuracy = 0\n",
    "    for i in range(num_batches):\n",
    "        min_index = i*batch_size_test\n",
    "        max_index = (i+1)*batch_size_test\n",
    "        if (i+2)*batch_size_test > len(x_test):\n",
    "            max_index = len(x_test)\n",
    "\n",
    "        x_batch, y_batch = x_test[min_index:max_index], y_test[min_index:max_index]\n",
    "        \n",
    "        y_pred = perceptron.forward(x_batch)\n",
    "        accuracy += np.sum(y_pred[:,0] == y_batch)\n",
    "        \n",
    "    accuracies.append(round(100*accuracy/len(x_test),2))\n",
    "    \n",
    "    for i in range(num_batches):\n",
    "        min_index = i*batch_size_train\n",
    "        max_index = (i+1)*batch_size_train\n",
    "        if (i+2)*batch_size_train > len(x_train):\n",
    "            max_index = len(x_train)\n",
    "        \n",
    "        x_batch, y_batch = x_test[min_index:max_index], y_test[min_index:max_index]\n",
    "        \n",
    "        y_pred = perceptron.forward(x_batch)[:,0]\n",
    "\n",
    "        perceptron.backward(x_batch, y_batch, y_pred, lr)\n",
    "    "
   ]
  },
  {
   "cell_type": "code",
   "execution_count": 167,
   "id": "510bd08e-4e8e-4055-a711-d80f54840207",
   "metadata": {},
   "outputs": [
    {
     "data": {
      "text/plain": [
       "[<matplotlib.lines.Line2D at 0x144e4a750>]"
      ]
     },
     "execution_count": 167,
     "metadata": {},
     "output_type": "execute_result"
    },
    {
     "data": {
      "image/png": "[encoded data removed]",
      "text/plain": [
       "<Figure size 640x480 with 1 Axes>"
      ]
     },
     "metadata": {},
     "output_type": "display_data"
    }
   ],
   "source": [
    "plt.plot(accuracies)"
   ]
  },
  {
   "cell_type": "code",
   "execution_count": 386,
   "id": "b5489399-bfe7-441e-a437-fa1e888e6188",
   "metadata": {},
   "outputs": [
    {
     "name": "stdout",
     "output_type": "stream",
     "text": [
      "Incorrectly identified sample 440\n",
      "Accuracy : 99.95%\n"
     ]
    }
   ],
   "source": [
    "accuracy = 0\n",
    "for i in range(len(x_test)):\n",
    "    y_pred = perceptron.forward(x_test[i])\n",
    "    \n",
    "    if (y_pred[0] == y_test[i]):\n",
    "        accuracy += 1\n",
    "    else:\n",
    "        print(\"Incorrectly identified sample\",i)\n",
    "\n",
    "print(f\"Accuracy : {round(100*accuracy/len(x_test),2)}%\")"
   ]
  },
  {
   "cell_type": "code",
   "execution_count": 378,
   "id": "039c14c0-fdc0-487a-aac4-8006459dc3d1",
   "metadata": {},
   "outputs": [
    {
     "data": {
      "image/png": "[encoded data removed]",
      "text/plain": [
       "<Figure size 640x480 with 10 Axes>"
      ]
     },
     "metadata": {},
     "output_type": "display_data"
    }
   ],
   "source": [
    "sample_indices = np.random.choice(list(range(len(x_test))),10,replace=False)\n",
    "fig,axs = plt.subplots(2,5)\n",
    "for i in range(2):\n",
    "    for j in range(5):\n",
    "        sample_idx = sample_indices[5*i+j]\n",
    "        y_pred = perceptron.forward(x_test[sample_idx])\n",
    "        axs[i,j].imshow(x_test[sample_idx].reshape(28,28),cmap='Greys')\n",
    "        axs[i,j].axis('off')\n",
    "        axs[i,j].set_title(f'Pred : {max(0,int(y_pred[0]))}',color='green' if y_test[sample_idx] == y_pred[0] else 'red')\n",
    "\n",
    "plt.tight_layout()\n",
    "plt.show()"
   ]
  },
  {
   "cell_type": "code",
   "execution_count": null,
   "id": "b8d67807-470e-4c78-82aa-34df72b40394",
   "metadata": {},
   "outputs": [],
   "source": []
  },
  {
   "cell_type": "code",
   "execution_count": null,
   "id": "559cea8f-5b7d-4ee9-8039-8ab73e127878",
   "metadata": {},
   "outputs": [],
   "source": []
  },
  {
   "cell_type": "code",
   "execution_count": null,
   "id": "273f5f9a-4acf-4084-8025-29a656a7d7ae",
   "metadata": {},
   "outputs": [],
   "source": []
  }
 ],
 "metadata": {
  "kernelspec": {
   "display_name": "Python 3 (ipykernel)",
   "language": "python",
   "name": "python3"
  },
  "language_info": {
   "codemirror_mode": {
    "name": "ipython",
    "version": 3
   },
   "file_extension": ".py",
   "mimetype": "text/x-python",
   "name": "python",
   "nbconvert_exporter": "python",
   "pygments_lexer": "ipython3",
   "version": "3.12.4"
  }
 },
 "nbformat": 4,
 "nbformat_minor": 5
}
