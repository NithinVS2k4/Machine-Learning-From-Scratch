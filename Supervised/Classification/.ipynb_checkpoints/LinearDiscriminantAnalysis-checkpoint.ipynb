{
 "cells": [
  {
   "cell_type": "code",
   "execution_count": 14,
   "id": "8f5aaad2-af9a-49c2-846e-986c4cb85804",
   "metadata": {},
   "outputs": [],
   "source": [
    "import numpy as np\n",
    "import matplotlib.pyplot as plt\n",
    "from sklearn.model_selection import train_test_split\n",
    "import pandas as pd"
   ]
  },
  {
   "cell_type": "code",
   "execution_count": 15,
   "id": "e152186b-30ca-4791-89d1-fb538a78ba8c",
   "metadata": {},
   "outputs": [],
   "source": [
    "data = pd.read_csv('Assignment_dataset.csv')"
   ]
  },
  {
   "cell_type": "code",
   "execution_count": 18,
   "id": "c3237b4a-d6da-4ad8-bc77-c6ba2e78775a",
   "metadata": {},
   "outputs": [
    {
     "data": {
      "text/html": [
       "<div>\n",
       "<style scoped>\n",
       "    .dataframe tbody tr th:only-of-type {\n",
       "        vertical-align: middle;\n",
       "    }\n",
       "\n",
       "    .dataframe tbody tr th {\n",
       "        vertical-align: top;\n",
       "    }\n",
       "\n",
       "    .dataframe thead th {\n",
       "        text-align: right;\n",
       "    }\n",
       "</style>\n",
       "<table border=\"1\" class=\"dataframe\">\n",
       "  <thead>\n",
       "    <tr style=\"text-align: right;\">\n",
       "      <th></th>\n",
       "      <th>Categorical_1</th>\n",
       "      <th>Categorical_2</th>\n",
       "      <th>Feature_1</th>\n",
       "      <th>Feature_2</th>\n",
       "      <th>Feature_3</th>\n",
       "      <th>Label</th>\n",
       "    </tr>\n",
       "  </thead>\n",
       "  <tbody>\n",
       "    <tr>\n",
       "      <th>0</th>\n",
       "      <td>2</td>\n",
       "      <td>1</td>\n",
       "      <td>2824.802093</td>\n",
       "      <td>2530.517100</td>\n",
       "      <td>2717.842544</td>\n",
       "      <td>4</td>\n",
       "    </tr>\n",
       "    <tr>\n",
       "      <th>1</th>\n",
       "      <td>1</td>\n",
       "      <td>1</td>\n",
       "      <td>908.538051</td>\n",
       "      <td>1371.403348</td>\n",
       "      <td>1480.603380</td>\n",
       "      <td>2</td>\n",
       "    </tr>\n",
       "    <tr>\n",
       "      <th>2</th>\n",
       "      <td>1</td>\n",
       "      <td>0</td>\n",
       "      <td>4264.296027</td>\n",
       "      <td>4085.271732</td>\n",
       "      <td>4433.111426</td>\n",
       "      <td>4</td>\n",
       "    </tr>\n",
       "    <tr>\n",
       "      <th>3</th>\n",
       "      <td>2</td>\n",
       "      <td>1</td>\n",
       "      <td>650.809883</td>\n",
       "      <td>1537.163058</td>\n",
       "      <td>1002.764724</td>\n",
       "      <td>0</td>\n",
       "    </tr>\n",
       "    <tr>\n",
       "      <th>4</th>\n",
       "      <td>2</td>\n",
       "      <td>1</td>\n",
       "      <td>743.972385</td>\n",
       "      <td>1580.194147</td>\n",
       "      <td>992.426731</td>\n",
       "      <td>0</td>\n",
       "    </tr>\n",
       "  </tbody>\n",
       "</table>\n",
       "</div>"
      ],
      "text/plain": [
       "   Categorical_1  Categorical_2    Feature_1    Feature_2    Feature_3  Label\n",
       "0              2              1  2824.802093  2530.517100  2717.842544      4\n",
       "1              1              1   908.538051  1371.403348  1480.603380      2\n",
       "2              1              0  4264.296027  4085.271732  4433.111426      4\n",
       "3              2              1   650.809883  1537.163058  1002.764724      0\n",
       "4              2              1   743.972385  1580.194147   992.426731      0"
      ]
     },
     "execution_count": 18,
     "metadata": {},
     "output_type": "execute_result"
    }
   ],
   "source": [
    "data.head()"
   ]
  },
  {
   "cell_type": "code",
   "execution_count": 20,
   "id": "4cd9b0bd-5aa6-4b2d-8ca5-35e4025e7247",
   "metadata": {},
   "outputs": [
    {
     "data": {
      "text/plain": [
       "Index(['Categorical_1', 'Categorical_2', 'Feature_1', 'Feature_2', 'Feature_3',\n",
       "       'Label'],\n",
       "      dtype='object')"
      ]
     },
     "execution_count": 20,
     "metadata": {},
     "output_type": "execute_result"
    }
   ],
   "source": [
    "data.columns"
   ]
  },
  {
   "cell_type": "code",
   "execution_count": 22,
   "id": "fbcd1735-1b8e-4902-bf9b-ff9ba18db8a2",
   "metadata": {},
   "outputs": [
    {
     "name": "stdout",
     "output_type": "stream",
     "text": [
      "Classes : [0 1 2 3 4]\n",
      "Catgeorical features : ['Categorical_1', 'Categorical_2', 'Label']\n",
      "Continuous features : ['Feature_1', 'Feature_2', 'Feature_3']\n"
     ]
    }
   ],
   "source": [
    "categorical_features = []\n",
    "continuous_features = []\n",
    "for feature in data.columns:\n",
    "    if feature == 'Label':\n",
    "        classes = np.unique(data['Label'])\n",
    "    if data[feature].dtype in ['int32' , 'int64']:\n",
    "        categorical_features.append(feature)\n",
    "    else:\n",
    "        data[feature] = (data[feature]-data[feature].min())/(data[feature].max() - data[feature].min())\n",
    "        continuous_features.append(feature)\n",
    "\n",
    "print(\"Classes :\", classes)\n",
    "print(\"Catgeorical features :\",categorical_features)\n",
    "print(\"Continuous features :\",continuous_features)"
   ]
  },
  {
   "cell_type": "code",
   "execution_count": 24,
   "id": "e99f495e-9b15-4367-a6d7-02eee5e27a44",
   "metadata": {},
   "outputs": [
    {
     "data": {
      "text/html": [
       "<div>\n",
       "<style scoped>\n",
       "    .dataframe tbody tr th:only-of-type {\n",
       "        vertical-align: middle;\n",
       "    }\n",
       "\n",
       "    .dataframe tbody tr th {\n",
       "        vertical-align: top;\n",
       "    }\n",
       "\n",
       "    .dataframe thead th {\n",
       "        text-align: right;\n",
       "    }\n",
       "</style>\n",
       "<table border=\"1\" class=\"dataframe\">\n",
       "  <thead>\n",
       "    <tr style=\"text-align: right;\">\n",
       "      <th></th>\n",
       "      <th>Categorical_1</th>\n",
       "      <th>Categorical_2</th>\n",
       "      <th>Feature_1</th>\n",
       "      <th>Feature_2</th>\n",
       "      <th>Feature_3</th>\n",
       "      <th>Label</th>\n",
       "    </tr>\n",
       "  </thead>\n",
       "  <tbody>\n",
       "    <tr>\n",
       "      <th>0</th>\n",
       "      <td>0</td>\n",
       "      <td>1</td>\n",
       "      <td>0.256323</td>\n",
       "      <td>0.007947</td>\n",
       "      <td>0.215542</td>\n",
       "      <td>1</td>\n",
       "    </tr>\n",
       "    <tr>\n",
       "      <th>1</th>\n",
       "      <td>0</td>\n",
       "      <td>0</td>\n",
       "      <td>0.085531</td>\n",
       "      <td>0.156081</td>\n",
       "      <td>0.148142</td>\n",
       "      <td>3</td>\n",
       "    </tr>\n",
       "    <tr>\n",
       "      <th>2</th>\n",
       "      <td>2</td>\n",
       "      <td>0</td>\n",
       "      <td>0.785842</td>\n",
       "      <td>0.739545</td>\n",
       "      <td>0.751448</td>\n",
       "      <td>4</td>\n",
       "    </tr>\n",
       "    <tr>\n",
       "      <th>3</th>\n",
       "      <td>1</td>\n",
       "      <td>0</td>\n",
       "      <td>0.071659</td>\n",
       "      <td>0.159907</td>\n",
       "      <td>0.147483</td>\n",
       "      <td>3</td>\n",
       "    </tr>\n",
       "    <tr>\n",
       "      <th>4</th>\n",
       "      <td>0</td>\n",
       "      <td>1</td>\n",
       "      <td>0.137902</td>\n",
       "      <td>0.181760</td>\n",
       "      <td>0.178699</td>\n",
       "      <td>0</td>\n",
       "    </tr>\n",
       "  </tbody>\n",
       "</table>\n",
       "</div>"
      ],
      "text/plain": [
       "   Categorical_1  Categorical_2  Feature_1  Feature_2  Feature_3  Label\n",
       "0              0              1   0.256323   0.007947   0.215542      1\n",
       "1              0              0   0.085531   0.156081   0.148142      3\n",
       "2              2              0   0.785842   0.739545   0.751448      4\n",
       "3              1              0   0.071659   0.159907   0.147483      3\n",
       "4              0              1   0.137902   0.181760   0.178699      0"
      ]
     },
     "execution_count": 24,
     "metadata": {},
     "output_type": "execute_result"
    }
   ],
   "source": [
    "np.random.seed(42)\n",
    "train_data, test_data = train_test_split(data, test_size = 0.1)\n",
    "\n",
    "train_data = train_data.reset_index(drop=True)\n",
    "test_data = test_data.reset_index(drop=True)\n",
    "train_data.head()"
   ]
  },
  {
   "cell_type": "code",
   "execution_count": 26,
   "id": "7f5ce8a9-f7a0-4efd-9739-8942165f8180",
   "metadata": {},
   "outputs": [
    {
     "data": {
      "image/png": "[encoded data removed]",
      "text/plain": [
       "<Figure size 640x480 with 1 Axes>"
      ]
     },
     "metadata": {},
     "output_type": "display_data"
    },
    {
     "data": {
      "image/png": "[encoded data removed]",
      "text/plain": [
       "<Figure size 640x480 with 1 Axes>"
      ]
     },
     "metadata": {},
     "output_type": "display_data"
    },
    {
     "data": {
      "image/png": "[encoded data removed]",
      "text/plain": [
       "<Figure size 640x480 with 1 Axes>"
      ]
     },
     "metadata": {},
     "output_type": "display_data"
    },
    {
     "data": {
      "image/png": "[encoded data removed]",
      "text/plain": [
       "<Figure size 640x480 with 1 Axes>"
      ]
     },
     "metadata": {},
     "output_type": "display_data"
    },
    {
     "data": {
      "image/png": "[encoded data removed]",
      "text/plain": [
       "<Figure size 640x480 with 1 Axes>"
      ]
     },
     "metadata": {},
     "output_type": "display_data"
    }
   ],
   "source": [
    "def plot_feature_bar_graph(data,feature,num_bins):\n",
    "    bins = np.linspace(data[feature].min(), data[feature].max(), num_bins)\n",
    "    bins, count = np.unique(np.digitize(data[feature],bins), return_counts = True)\n",
    "\n",
    "    plt.title(feature)\n",
    "    plt.bar(bins, count)\n",
    "    plt.show()\n",
    "\n",
    "for feature in data.columns:\n",
    "    if feature != 'Label':\n",
    "        plot_feature_bar_graph(train_data, feature, 100)"
   ]
  },
  {
   "cell_type": "code",
   "execution_count": 118,
   "id": "35af55f4-3d4e-40a4-a41b-4b708e2585ed",
   "metadata": {},
   "outputs": [],
   "source": [
    "# Calculate pooled covariance matrix\n",
    "\n",
    "pool_cov = np.zeros((len(data.columns)-1, len(data.columns)-1))\n",
    "\n",
    "for cls in classes:\n",
    "    train_data_cls = train_data[train_data['Label'] == cls]\n",
    "    train_data_cls = train_data_cls.reset_index(drop = True)\n",
    "    mean = np.mean(train_data_cls.values, axis = 0).reshape(-1,1)[:-1]\n",
    "    for i in range(len(train_data_cls)):\n",
    "        x_i = train_data_cls.iloc[i].values.reshape(-1,1)[:-1]\n",
    "        pool_cov += np.dot((x_i-mean),(x_i-mean).T)\n",
    "pool_cov /= (len(train_data)-len(classes))\n",
    "pool_cov_inv = np.linalg.inv(pool_cov)"
   ]
  },
  {
   "cell_type": "code",
   "execution_count": 120,
   "id": "3e266b2e-be3f-480b-b14b-91da83819575",
   "metadata": {},
   "outputs": [],
   "source": [
    "def discriminant(x, pool_cov_inv, data, cls):\n",
    "    mean = np.mean(train_data_cls.values, axis = 0).reshape(-1,1)[:-1]\n",
    "    term1 = np.dot(np.dot(x.T, pool_cov_inv), mean)\n",
    "    term2 = -0.5*np.dot(np.dot(mean.T, pool_cov_inv), mean)\n",
    "    prior_prob = len(data[data['Label']==cls].values)/len(data.values)\n",
    "\n",
    "    return term1 + term2 + prior_prob"
   ]
  },
  {
   "cell_type": "code",
   "execution_count": 130,
   "id": "02b96967-129e-4894-8bf4-e40b0ade758a",
   "metadata": {},
   "outputs": [
    {
     "name": "stdout",
     "output_type": "stream",
     "text": [
      "Accuracy of LDA : 24.0 %\n"
     ]
    }
   ],
   "source": [
    "accuracy = 0\n",
    "for i in range(len(test_data)):\n",
    "    row = test_data.iloc[i]\n",
    "    x = row.values[:-1]\n",
    "    predictions = []\n",
    "    for class_ in classes:   \n",
    "        predictions.append(discriminant(x, pool_cov_inv, test_data, class_))\n",
    "    class_pred = np.argmax(predictions)\n",
    "    if class_pred == row['Label']:\n",
    "        accuracy += 1\n",
    "\n",
    "print(\"Accuracy of LDA :\", 100*accuracy/len(test_data), \"%\")"
   ]
  },
  {
   "cell_type": "code",
   "execution_count": null,
   "id": "2ecaafc0-5a30-47d6-99e8-37dfeb1c772e",
   "metadata": {},
   "outputs": [],
   "source": []
  }
 ],
 "metadata": {
  "kernelspec": {
   "display_name": "Python 3 (ipykernel)",
   "language": "python",
   "name": "python3"
  },
  "language_info": {
   "codemirror_mode": {
    "name": "ipython",
    "version": 3
   },
   "file_extension": ".py",
   "mimetype": "text/x-python",
   "name": "python",
   "nbconvert_exporter": "python",
   "pygments_lexer": "ipython3",
   "version": "3.12.4"
  }
 },
 "nbformat": 4,
 "nbformat_minor": 5
}
