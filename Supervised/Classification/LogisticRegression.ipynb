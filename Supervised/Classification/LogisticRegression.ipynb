{
 "cells": [
  {
   "cell_type": "markdown",
   "id": "35a8b5a5-b456-4fff-ac54-a66bd3e4aabe",
   "metadata": {},
   "source": [
    "# Logistic Regression on MNIST"
   ]
  },
  {
   "cell_type": "markdown",
   "id": "40eec66c-1170-4e79-b959-4d95274afcc1",
   "metadata": {},
   "source": [
    "## Importing libraries"
   ]
  },
  {
   "cell_type": "code",
   "execution_count": 2,
   "id": "9ff13f7e-b7da-4006-bdf5-d9ec5f612c79",
   "metadata": {},
   "outputs": [],
   "source": [
    "import numpy as np\n",
    "import matplotlib.pyplot as plt\n",
    "from os.path import join\n",
    "import struct\n",
    "from array import array\n",
    "import random\n",
    "from copy import deepcopy"
   ]
  },
  {
   "cell_type": "markdown",
   "id": "8d2de8b6-4b65-4ca7-bbc9-00c71673c379",
   "metadata": {},
   "source": [
    "## Obtaining the MNIST data"
   ]
  },
  {
   "cell_type": "code",
   "execution_count": 3,
   "id": "bc896a52-feb2-4f69-924f-5f19c18b1267",
   "metadata": {},
   "outputs": [],
   "source": [
    "input_path = '../../Data/'\n",
    "training_images_filepath = join(input_path, 'MNIST/train-images-idx3-ubyte/train-images-idx3-ubyte')\n",
    "training_labels_filepath = join(input_path, 'MNIST/train-labels-idx1-ubyte/train-labels-idx1-ubyte')\n",
    "test_images_filepath = join(input_path, 'MNIST/t10k-images-idx3-ubyte/t10k-images-idx3-ubyte')\n",
    "test_labels_filepath = join(input_path, 'MNIST/t10k-labels-idx1-ubyte/t10k-labels-idx1-ubyte')"
   ]
  },
  {
   "cell_type": "code",
   "execution_count": 4,
   "id": "6ea1a6d1-976e-4c5f-a126-0a841a3cb71a",
   "metadata": {},
   "outputs": [],
   "source": [
    "\n",
    "#\n",
    "# MNIST Data Loader Class\n",
    "#\n",
    "class MnistDataloader(object):\n",
    "    def __init__(self, training_images_filepath,training_labels_filepath,\n",
    "                 test_images_filepath, test_labels_filepath):\n",
    "        self.training_images_filepath = training_images_filepath\n",
    "        self.training_labels_filepath = training_labels_filepath\n",
    "        self.test_images_filepath = test_images_filepath\n",
    "        self.test_labels_filepath = test_labels_filepath\n",
    "\n",
    "    def read_images_labels(self, images_filepath, labels_filepath):\n",
    "        labels = []\n",
    "        with open(labels_filepath, 'rb') as file:\n",
    "            magic, size = struct.unpack(\">II\", file.read(8))\n",
    "            if magic != 2049:\n",
    "                raise ValueError('Magic number mismatch, expected 2049, got {}'.format(magic))\n",
    "            labels = array(\"B\", file.read())\n",
    "\n",
    "        with open(images_filepath, 'rb') as file:\n",
    "            magic, size, rows, cols = struct.unpack(\">IIII\", file.read(16))\n",
    "            if magic != 2051:\n",
    "                raise ValueError('Magic number mismatch, expected 2051, got {}'.format(magic))\n",
    "            image_data = array(\"B\", file.read())\n",
    "        images = []\n",
    "        for i in range(size):\n",
    "            images.append([0] * rows * cols)\n",
    "        for i in range(size):\n",
    "            img = np.array(image_data[i * rows * cols:(i + 1) * rows * cols])\n",
    "            img = img/255\n",
    "            img = img.reshape(28, 28)\n",
    "            images[i][:] = img\n",
    "\n",
    "        return images, labels\n",
    "\n",
    "    def load_data(self,load_train=True,augment=False,replace_set=True, num_of_copies=1):\n",
    "        if load_train:\n",
    "            x_train, y_train = self.read_images_labels(self.training_images_filepath, self.training_labels_filepath)\n",
    "        else: x_train,y_train = ([],[])\n",
    "        x_test, y_test = self.read_images_labels(self.test_images_filepath, self.test_labels_filepath)\n",
    "        if augment:\n",
    "            if load_train:\n",
    "                x_train, y_train = augment_data(x_train,y_train,replace_set,num_of_copies)\n",
    "            x_test, y_test = augment_data(x_test, y_test, replace_set=True, num_of_copies=1)\n",
    "        return (x_train, y_train),(x_test, y_test)\n",
    "\n",
    "\n",
    "def image_shift(image,shift=None,shift_x = True,shift_y = True):\n",
    "    image = np.asarray(image)\n",
    "    if shift is None:\n",
    "        if shift_x:\n",
    "            x_shift = random.randint(-3,3)\n",
    "        else:\n",
    "            x_shift = 0\n",
    "        if shift_y:\n",
    "            y_shift = random.randint(-3,3)\n",
    "        else:\n",
    "            y_shift = 0\n",
    "    else: x_shift,y_shift = shift\n",
    "    if x_shift >= 0:\n",
    "        # Remove columns from the left and pad with zeros on the right\n",
    "        image = image[:, x_shift:]  # Remove columns from the left\n",
    "        image = np.hstack((image, np.zeros((image.shape[0], x_shift))))  # Pad with zeros on the right\n",
    "    else:\n",
    "        # Remove columns from the right and pad with zeros on the left\n",
    "        image = image[:, :image.shape[1] + x_shift]  # Remove columns from the right\n",
    "        image = np.hstack((np.zeros((image.shape[0], abs(x_shift))), image))  # Pad with zeros on the left\n",
    "\n",
    "    if y_shift >= 0:\n",
    "        # Remove rows from the top and pad with zeros at the bottom\n",
    "        image = image[y_shift:, :]  # Remove rows from the top\n",
    "        image = np.vstack((image, np.zeros((y_shift, image.shape[1]))))  # Pad with zeros at the bottom\n",
    "    else:\n",
    "        # Remove rows from the bottom and pad with zeros at the top\n",
    "        image = image[:image.shape[0] + y_shift, :]  # Remove rows from the bottom\n",
    "        image = np.vstack((np.zeros((abs(y_shift), image.shape[1])), image))\n",
    "    return image\n",
    "\n",
    "def apply_noise(image,num_of_points=None):\n",
    "    if num_of_points is None:\n",
    "        num_of_points = random.randint(5,20)\n",
    "    image = deepcopy(image)\n",
    "    for _ in range(num_of_points):\n",
    "        x,y = np.random.randint(0,28,2)\n",
    "        noise = np.random.uniform(0,1)\n",
    "        image[x][y] = np.clip(image[x][y]+noise,0.0,1.0)\n",
    "    return image\n",
    "\n",
    "\n",
    "def augment_data(x, y, replace_set=False, num_of_copies=9):\n",
    "    if replace_set:\n",
    "        x_new = []\n",
    "        y_new = []\n",
    "    else:\n",
    "        x_new = deepcopy(x)\n",
    "        y_new = deepcopy(y)\n",
    "    for i,image in enumerate(x):\n",
    "        for _ in range(num_of_copies):\n",
    "            shifted_image = image_shift(image)\n",
    "            # shifted_image = apply_noise(shifted_image)\n",
    "            x_new.append(shifted_image)\n",
    "            y_new.append(y[i])\n",
    "    return x_new,y_new\n",
    "\n",
    "\n",
    "mnist_dataloader = MnistDataloader(training_images_filepath, training_labels_filepath, test_images_filepath, test_labels_filepath)\n",
    "(x_train, y_train), (x_test, y_test) = mnist_dataloader.load_data()"
   ]
  },
  {
   "cell_type": "markdown",
   "id": "7d5e5dfa-c3e9-4910-848e-3013b7cda4c4",
   "metadata": {},
   "source": [
    "## Modifying the data for logistic regression"
   ]
  },
  {
   "cell_type": "code",
   "execution_count": 5,
   "id": "cb58147c-3f98-4b79-a743-381414ef2821",
   "metadata": {},
   "outputs": [],
   "source": [
    "x_train = np.asarray(x_train).reshape(-1,784)\n",
    "y_train = np.asarray(y_train)\n",
    "x_test = np.asarray(x_test).reshape(-1,784)\n",
    "y_test = np.asarray(y_test)"
   ]
  },
  {
   "cell_type": "code",
   "execution_count": 6,
   "id": "41d7ddbf-244b-40da-a9a1-ee95fb111030",
   "metadata": {},
   "outputs": [],
   "source": [
    "y_train_oh = np.zeros((len(y_train),10))\n",
    "for i in range(len(y_train)):\n",
    "    index = y_train[i]\n",
    "    y_train_oh[i,index] = 1\n",
    "y_train = y_train_oh\n",
    "\n",
    "y_test_oh = np.zeros((len(y_test),10))\n",
    "for i in range(len(y_test)):\n",
    "    index = y_test[i]\n",
    "    y_test_oh[i,index] = 1\n",
    "\n",
    "y_test = y_test_oh"
   ]
  },
  {
   "cell_type": "markdown",
   "id": "8f226940-f699-4524-b4e8-41357be645a5",
   "metadata": {},
   "source": [
    "## Defining the model"
   ]
  },
  {
   "cell_type": "markdown",
   "id": "8472daae-4f85-42b4-8174-a41e008fafb1",
   "metadata": {
    "editable": true,
    "slideshow": {
     "slide_type": ""
    },
    "tags": []
   },
   "source": [
    "### Notations\n",
    "\n",
    "$$\\large n_c \\rightarrow \\text{No. of classes}$$\n",
    "\n",
    "$$\\large n_f \\rightarrow \\text{No. of features}$$\n",
    "\n",
    "$$\\large W_{n_c \\times n_f} \\rightarrow \\text{Weight matrix}$$\n",
    "\n",
    "$$\\large b_{n_c \\times 1} \\rightarrow \\text{Bias vector}$$\n",
    "\n",
    "$$\\large \\hat y \\rightarrow \\text{Model output}$$\n",
    "\n",
    "### Forward pass\n",
    "\n",
    "A logistic regression model is used for classifcation purposes where one would define $n_c$ linear regression models, each with their own weight vector and bias value. The outputs of these linear regression models are then plugged into a softmax function to obtain a vector of length $n_c$ where the one with the highest value will be the predicted class. The value can also act as the confidence of the model.\n",
    "\n",
    "$$\\large \\text{softmax}(\\vec{x}) = \\frac{e^{\\vec{x}}}{\\sum_i e^{x_i}}$$\n",
    "\n",
    "Thus, the forward pass becomes :\n",
    "\n",
    "$$\\large z = W \\cdot X + b$$\n",
    "\n",
    "$$\\large \\hat y = \\text{softmax}(z)$$\n",
    "\n",
    "and the predicted class  is\n",
    "\n",
    "$$\\large \\text{y\\_pred} = \\underset{j}{\\arg\\max}\\text{ } \\hat y $$\n",
    "\n",
    "### Backward pass\n",
    "\n",
    "Calculating $\\Large \\frac{\\partial \\mathcal L}{\\partial z}$\n",
    "\n",
    "$$\\large\n",
    "\\frac{\\partial \\mathcal L}{\\partial z} = \\frac{\\partial \\mathcal L}{\\partial \\hat y} \\cdot \\frac{\\partial \\hat y}{\\partial z}\n",
    "$$\n",
    "\n",
    "$$\\large\n",
    "\\text{Assuming }\\mathcal L = -\\displaystyle\\sum_j y_j ln(\\hat y_j)\n",
    "$$\n",
    "\n",
    "$$\\large \\frac{\\partial \\mathcal L}{\\partial z_i} = -\\frac{\\partial}{\\partial z_i} \\sum_j y_j \\cdot \\ln\\hat{y}_j$$\n",
    "\n",
    "$$\\large \\frac{\\partial \\mathcal L}{\\partial z_i} = -\\sum_j y_j \\cdot \\frac{1}{\\hat{y}_j}\\frac{\\partial \\hat{y}_j}{\\partial z_i}$$\n",
    "\n",
    "Let's calculate $\\LARGE \\frac{\\partial \\hat{y}_j}{\\partial z_i}$.\n",
    "\n",
    "For $\\large i = j$:\n",
    "\n",
    "$$\\large\n",
    "\\frac{\\partial \\hat{y}_i}{\\partial z_i} = \\frac{\\partial}{\\partial z_i} \\frac{e^{z_i}}{\\sum_j e^{z_i}}\n",
    "$$\n",
    "\n",
    "$$\\large\n",
    "\\frac{\\partial \\hat{y}_i}{\\partial z_i} = \\frac{ \\sum_j e^{z_i} \\times e^{z_i} - e^{z_i} \\times e^{z_i}}{\\left(\\sum_j e^{z_i}\\right)^2} = \\frac{e^{z_i}}{ \\sum_j e^{z_i}} \\times \\frac{\\sum_j e^{z_i} - e^{z_i}}{\\sum_j e^{z_i}}\n",
    "$$\n",
    "\n",
    "<div style=\"text-align: center;\">\n",
    "  <div style=\"border: 2px dashed white; padding: 5px; display: inline-block;\">\n",
    "    \\( \\LARGE \\frac{\\partial \\hat{y}_i}{\\partial z_i} = \\hat{y}_i (1 - \\hat{y}_i) \\)\n",
    "  </div>\n",
    "</div>\n",
    "\n",
    "\n",
    "For $\\large i \\neq j$:\n",
    "\n",
    "$$\\large\n",
    "\\frac{\\partial \\hat{y}_j}{\\partial z_i} = \\frac{\\partial}{\\partial z_i} \\frac{e^{z_j}}{\\sum_k e^{z_k}}\n",
    "$$\n",
    "\n",
    "$$\\large\n",
    "\\frac{\\partial \\hat{y}_j}{\\partial z_i} = -\\frac{e^{z_j} \\times e^{z_i}}{\\left(\\sum_k e^{z_k}\\right)^2}\n",
    "$$\n",
    "\n",
    "<div style=\"text-align: center;\">\n",
    "  <div style=\"border: 2px dashed white; padding: 5px; display: inline-block;\">\n",
    "    \\( \\LARGE \\frac{\\partial \\hat{y}_j}{\\partial z_i} = -\\hat{y}_j\\hat{y}_i \\)\n",
    "  </div>\n",
    "</div>\n",
    "\n",
    "\n",
    "Substituting the result, we get\n",
    "\n",
    "$$\\large\n",
    "\\frac{\\partial \\mathcal L}{\\partial z_i} =  \\hat{y}_i{\\displaystyle \\sum_{i \\neq j} y_j} - y_i (1-\\hat{y}_i)\n",
    "$$\n",
    "\n",
    "Which simplifies to\n",
    "\n",
    "$$\\large\n",
    "\\frac{\\partial \\mathcal L}{\\partial z_i} = - y_i +  \\hat{y}_i {\\displaystyle \\sum_j y_j} \n",
    "$$\n",
    "\n",
    "For one-hot encoded labels, $$\\large {\\displaystyle \\sum_j y_j} = 1$$\n",
    "\n",
    "Which gives\n",
    "$$\\large \\frac{\\partial \\mathcal L}{\\partial z_i} =\\hat{y}_i - y_i$$\n",
    "\n",
    "$$\\large \\therefore \\boxed{\\frac{\\partial \\mathcal L}{\\partial z} = \\hat{y} - y}$$"
   ]
  },
  {
   "cell_type": "code",
   "execution_count": 7,
   "id": "903ddff2-7290-4496-b09f-bf20ecbb61de",
   "metadata": {},
   "outputs": [],
   "source": [
    "class Logistic:\n",
    "    def __init__(self, num_classes, num_feats):\n",
    "        self.n_c = num_classes\n",
    "        self.n_f = num_feats\n",
    "\n",
    "        self.W = np.random.randn(self.n_c, self.n_f)\n",
    "        self.B = np.zeros((self.n_c, 1))\n",
    "\n",
    "    def softmax(self, Z):\n",
    "        exp_Z = np.exp(Z - np.max(Z, axis=1, keepdims=True))  \n",
    "        return exp_Z / np.sum(exp_Z, axis=1, keepdims=True)\n",
    "\n",
    "    def cross_entropy(self, y_true, y_pred):\n",
    "        return -np.mean(np.sum(y_true * np.log(y_pred + 1e-9), axis=1))\n",
    "    \n",
    "    def forward(self, X):\n",
    "        return self.softmax(np.dot(X,self.W.T) + self.B.T)\n",
    "\n",
    "    def backward(self, X, y_true, y_pred, learning_rate=0.001):\n",
    "        dW = (1 / len(x_train)) * np.dot((y_pred - y_train).T, x_train)\n",
    "        db = (1 / len(x_train)) * np.sum(y_pred - y_train, axis=0, keepdims=True).T  \n",
    "    \n",
    "        self.W -= learning_rate * dW\n",
    "        self.B -= learning_rate * db\n",
    "        return self.cross_entropy(y_true, y_pred)"
   ]
  },
  {
   "cell_type": "code",
   "execution_count": 14,
   "id": "31434e1c-f252-48dd-a0dd-da55776f5c94",
   "metadata": {},
   "outputs": [],
   "source": [
    "accuracies = []\n",
    "losses = []"
   ]
  },
  {
   "cell_type": "code",
   "execution_count": 15,
   "id": "f62786de-d298-47d7-b9ce-d168c5fb80c7",
   "metadata": {},
   "outputs": [
    {
     "name": "stdout",
     "output_type": "stream",
     "text": [
      "Epoch 25/400, Loss: 4.310819, Accuracy : 39.17%\n",
      "Epoch 50/400, Loss: 2.665279, Accuracy : 55.79%\n",
      "Epoch 75/400, Loss: 2.027429, Accuracy : 64.64%\n",
      "Epoch 100/400, Loss: 1.695607, Accuracy : 69.78%\n",
      "Epoch 125/400, Loss: 1.490740, Accuracy : 73.29%\n",
      "Epoch 150/400, Loss: 1.350549, Accuracy : 75.31%\n",
      "Epoch 175/400, Loss: 1.247744, Accuracy : 76.82%\n",
      "Epoch 200/400, Loss: 1.168444, Accuracy : 78.20%\n",
      "Epoch 225/400, Loss: 1.104905, Accuracy : 79.39%\n",
      "Epoch 250/400, Loss: 1.052501, Accuracy : 80.17%\n",
      "Epoch 275/400, Loss: 1.008307, Accuracy : 80.72%\n",
      "Epoch 300/400, Loss: 0.970364, Accuracy : 81.29%\n",
      "Epoch 325/400, Loss: 0.937305, Accuracy : 81.74%\n",
      "Epoch 350/400, Loss: 0.908148, Accuracy : 82.25%\n",
      "Epoch 375/400, Loss: 0.882168, Accuracy : 82.73%\n",
      "Epoch 400/400, Loss: 0.858818, Accuracy : 83.26%\n"
     ]
    }
   ],
   "source": [
    "def softmax(Z):\n",
    "    exp_Z = np.exp(Z - np.max(Z, axis=1, keepdims=True))  \n",
    "    return exp_Z / np.sum(exp_Z, axis=1, keepdims=True)\n",
    "\n",
    "def cross_entropy(y_true, y_pred):\n",
    "    return -np.mean(np.sum(y_true * np.log(y_pred + 1e-9), axis=1))\n",
    "\n",
    "num_classes = 10\n",
    "num_feats = x_train.shape[1]\n",
    "\n",
    "logistic = Logistic(num_classes, num_feats)\n",
    "\n",
    "epochs = 400\n",
    "learning_rate = 0.4\n",
    "\n",
    "for epoch in range(epochs):\n",
    "\n",
    "    y_pred = logistic.forward(x_train)\n",
    "    loss = logistic.backward(x_train, y_train, y_pred, learning_rate)\n",
    "    losses.append(loss)\n",
    "\n",
    "    y_pred = logistic.forward(x_test)\n",
    "    y_pred = np.argmax(y_pred, axis=1)\n",
    "    y_true = np.argmax(y_test, axis=1)\n",
    "    \n",
    "    accuracy = 100 * np.mean(y_pred == y_true)\n",
    "    accuracies.append(accuracy)\n",
    "    # Print loss every 500 epochs\n",
    "    if (epoch + 1) % 25 == 0:\n",
    "        print(f\"Epoch {epoch+1}/{epochs}, Loss: {loss:.6f}, Accuracy : {accuracy:.2f}%\")\n",
    "    "
   ]
  },
  {
   "cell_type": "code",
   "execution_count": 16,
   "id": "eb943d0b-6ab7-4db9-84eb-bd5dd5a44162",
   "metadata": {},
   "outputs": [
    {
     "data": {
      "image/png": "[encoded data removed]",
      "text/plain": [
       "<Figure size 640x480 with 1 Axes>"
      ]
     },
     "metadata": {},
     "output_type": "display_data"
    },
    {
     "data": {
      "image/png": "[encoded data removed]",
      "text/plain": [
       "<Figure size 640x480 with 1 Axes>"
      ]
     },
     "metadata": {},
     "output_type": "display_data"
    }
   ],
   "source": [
    "plt.plot(losses)\n",
    "plt.show()\n",
    "plt.plot(accuracies)\n",
    "plt.show()"
   ]
  },
  {
   "cell_type": "code",
   "execution_count": 59,
   "id": "65335615-2c45-4f88-a9e4-feff72cccdac",
   "metadata": {},
   "outputs": [],
   "source": [
    "np.save('logistic_reg_weights_mnist.npy',logistic.W)"
   ]
  },
  {
   "cell_type": "code",
   "execution_count": 61,
   "id": "8825d8c3-ab51-49f5-ae61-8ba34f56e52b",
   "metadata": {},
   "outputs": [],
   "source": [
    "np.save('logistic_reg_bias_mnist.npy',logistic.B)"
   ]
  },
  {
   "cell_type": "code",
   "execution_count": null,
   "id": "5b3a0e2b-305b-4bcf-a07b-c51d2d2b5de6",
   "metadata": {},
   "outputs": [],
   "source": []
  }
 ],
 "metadata": {
  "kernelspec": {
   "display_name": "Python 3 (ipykernel)",
   "language": "python",
   "name": "python3"
  },
  "language_info": {
   "codemirror_mode": {
    "name": "ipython",
    "version": 3
   },
   "file_extension": ".py",
   "mimetype": "text/x-python",
   "name": "python",
   "nbconvert_exporter": "python",
   "pygments_lexer": "ipython3",
   "version": "3.10.14"
  }
 },
 "nbformat": 4,
 "nbformat_minor": 5
}
