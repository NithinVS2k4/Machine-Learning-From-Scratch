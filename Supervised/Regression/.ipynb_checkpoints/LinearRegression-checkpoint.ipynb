{
 "cells": [
  {
   "cell_type": "markdown",
   "id": "9f3ea38b-2385-45a9-8355-6e9598488fbb",
   "metadata": {},
   "source": [
    "# Linear Regression"
   ]
  },
  {
   "cell_type": "markdown",
   "id": "152d8d17-9576-4f2e-b356-40d55a9c4eb8",
   "metadata": {},
   "source": [
    "## Importing libraries"
   ]
  },
  {
   "cell_type": "code",
   "execution_count": 162,
   "id": "7bbad853-a09a-46de-993c-1e7e76fe19b7",
   "metadata": {},
   "outputs": [],
   "source": [
    "import pandas as pd\n",
    "import numpy as np\n",
    "import matplotlib.pyplot as plt"
   ]
  },
  {
   "cell_type": "markdown",
   "id": "c496af5f-1e30-4d2a-a1c5-7d89c140ac40",
   "metadata": {},
   "source": [
    "## Obtaining the data"
   ]
  },
  {
   "cell_type": "code",
   "execution_count": 165,
   "id": "2afd6928-ffe0-405c-a936-882c0a9dfea9",
   "metadata": {},
   "outputs": [
    {
     "data": {
      "text/html": [
       "<div>\n",
       "<style scoped>\n",
       "    .dataframe tbody tr th:only-of-type {\n",
       "        vertical-align: middle;\n",
       "    }\n",
       "\n",
       "    .dataframe tbody tr th {\n",
       "        vertical-align: top;\n",
       "    }\n",
       "\n",
       "    .dataframe thead th {\n",
       "        text-align: right;\n",
       "    }\n",
       "</style>\n",
       "<table border=\"1\" class=\"dataframe\">\n",
       "  <thead>\n",
       "    <tr style=\"text-align: right;\">\n",
       "      <th></th>\n",
       "      <th>longitude</th>\n",
       "      <th>latitude</th>\n",
       "      <th>housing_median_age</th>\n",
       "      <th>total_rooms</th>\n",
       "      <th>total_bedrooms</th>\n",
       "      <th>population</th>\n",
       "      <th>households</th>\n",
       "      <th>median_income</th>\n",
       "      <th>median_house_value</th>\n",
       "      <th>ocean_proximity</th>\n",
       "    </tr>\n",
       "  </thead>\n",
       "  <tbody>\n",
       "    <tr>\n",
       "      <th>0</th>\n",
       "      <td>-122.23</td>\n",
       "      <td>37.88</td>\n",
       "      <td>41.0</td>\n",
       "      <td>880.0</td>\n",
       "      <td>129.0</td>\n",
       "      <td>322.0</td>\n",
       "      <td>126.0</td>\n",
       "      <td>8.3252</td>\n",
       "      <td>452600.0</td>\n",
       "      <td>3</td>\n",
       "    </tr>\n",
       "    <tr>\n",
       "      <th>1</th>\n",
       "      <td>-122.22</td>\n",
       "      <td>37.86</td>\n",
       "      <td>21.0</td>\n",
       "      <td>7099.0</td>\n",
       "      <td>1106.0</td>\n",
       "      <td>2401.0</td>\n",
       "      <td>1138.0</td>\n",
       "      <td>8.3014</td>\n",
       "      <td>358500.0</td>\n",
       "      <td>3</td>\n",
       "    </tr>\n",
       "    <tr>\n",
       "      <th>2</th>\n",
       "      <td>-122.24</td>\n",
       "      <td>37.85</td>\n",
       "      <td>52.0</td>\n",
       "      <td>1467.0</td>\n",
       "      <td>190.0</td>\n",
       "      <td>496.0</td>\n",
       "      <td>177.0</td>\n",
       "      <td>7.2574</td>\n",
       "      <td>352100.0</td>\n",
       "      <td>3</td>\n",
       "    </tr>\n",
       "    <tr>\n",
       "      <th>3</th>\n",
       "      <td>-122.25</td>\n",
       "      <td>37.85</td>\n",
       "      <td>52.0</td>\n",
       "      <td>1274.0</td>\n",
       "      <td>235.0</td>\n",
       "      <td>558.0</td>\n",
       "      <td>219.0</td>\n",
       "      <td>5.6431</td>\n",
       "      <td>341300.0</td>\n",
       "      <td>3</td>\n",
       "    </tr>\n",
       "    <tr>\n",
       "      <th>4</th>\n",
       "      <td>-122.25</td>\n",
       "      <td>37.85</td>\n",
       "      <td>52.0</td>\n",
       "      <td>1627.0</td>\n",
       "      <td>280.0</td>\n",
       "      <td>565.0</td>\n",
       "      <td>259.0</td>\n",
       "      <td>3.8462</td>\n",
       "      <td>342200.0</td>\n",
       "      <td>3</td>\n",
       "    </tr>\n",
       "    <tr>\n",
       "      <th>...</th>\n",
       "      <td>...</td>\n",
       "      <td>...</td>\n",
       "      <td>...</td>\n",
       "      <td>...</td>\n",
       "      <td>...</td>\n",
       "      <td>...</td>\n",
       "      <td>...</td>\n",
       "      <td>...</td>\n",
       "      <td>...</td>\n",
       "      <td>...</td>\n",
       "    </tr>\n",
       "    <tr>\n",
       "      <th>20428</th>\n",
       "      <td>-121.09</td>\n",
       "      <td>39.48</td>\n",
       "      <td>25.0</td>\n",
       "      <td>1665.0</td>\n",
       "      <td>374.0</td>\n",
       "      <td>845.0</td>\n",
       "      <td>330.0</td>\n",
       "      <td>1.5603</td>\n",
       "      <td>78100.0</td>\n",
       "      <td>1</td>\n",
       "    </tr>\n",
       "    <tr>\n",
       "      <th>20429</th>\n",
       "      <td>-121.21</td>\n",
       "      <td>39.49</td>\n",
       "      <td>18.0</td>\n",
       "      <td>697.0</td>\n",
       "      <td>150.0</td>\n",
       "      <td>356.0</td>\n",
       "      <td>114.0</td>\n",
       "      <td>2.5568</td>\n",
       "      <td>77100.0</td>\n",
       "      <td>1</td>\n",
       "    </tr>\n",
       "    <tr>\n",
       "      <th>20430</th>\n",
       "      <td>-121.22</td>\n",
       "      <td>39.43</td>\n",
       "      <td>17.0</td>\n",
       "      <td>2254.0</td>\n",
       "      <td>485.0</td>\n",
       "      <td>1007.0</td>\n",
       "      <td>433.0</td>\n",
       "      <td>1.7000</td>\n",
       "      <td>92300.0</td>\n",
       "      <td>1</td>\n",
       "    </tr>\n",
       "    <tr>\n",
       "      <th>20431</th>\n",
       "      <td>-121.32</td>\n",
       "      <td>39.43</td>\n",
       "      <td>18.0</td>\n",
       "      <td>1860.0</td>\n",
       "      <td>409.0</td>\n",
       "      <td>741.0</td>\n",
       "      <td>349.0</td>\n",
       "      <td>1.8672</td>\n",
       "      <td>84700.0</td>\n",
       "      <td>1</td>\n",
       "    </tr>\n",
       "    <tr>\n",
       "      <th>20432</th>\n",
       "      <td>-121.24</td>\n",
       "      <td>39.37</td>\n",
       "      <td>16.0</td>\n",
       "      <td>2785.0</td>\n",
       "      <td>616.0</td>\n",
       "      <td>1387.0</td>\n",
       "      <td>530.0</td>\n",
       "      <td>2.3886</td>\n",
       "      <td>89400.0</td>\n",
       "      <td>1</td>\n",
       "    </tr>\n",
       "  </tbody>\n",
       "</table>\n",
       "<p>20433 rows × 10 columns</p>\n",
       "</div>"
      ],
      "text/plain": [
       "       longitude  latitude  housing_median_age  total_rooms  total_bedrooms  \\\n",
       "0        -122.23     37.88                41.0        880.0           129.0   \n",
       "1        -122.22     37.86                21.0       7099.0          1106.0   \n",
       "2        -122.24     37.85                52.0       1467.0           190.0   \n",
       "3        -122.25     37.85                52.0       1274.0           235.0   \n",
       "4        -122.25     37.85                52.0       1627.0           280.0   \n",
       "...          ...       ...                 ...          ...             ...   \n",
       "20428    -121.09     39.48                25.0       1665.0           374.0   \n",
       "20429    -121.21     39.49                18.0        697.0           150.0   \n",
       "20430    -121.22     39.43                17.0       2254.0           485.0   \n",
       "20431    -121.32     39.43                18.0       1860.0           409.0   \n",
       "20432    -121.24     39.37                16.0       2785.0           616.0   \n",
       "\n",
       "       population  households  median_income  median_house_value  \\\n",
       "0           322.0       126.0         8.3252            452600.0   \n",
       "1          2401.0      1138.0         8.3014            358500.0   \n",
       "2           496.0       177.0         7.2574            352100.0   \n",
       "3           558.0       219.0         5.6431            341300.0   \n",
       "4           565.0       259.0         3.8462            342200.0   \n",
       "...           ...         ...            ...                 ...   \n",
       "20428       845.0       330.0         1.5603             78100.0   \n",
       "20429       356.0       114.0         2.5568             77100.0   \n",
       "20430      1007.0       433.0         1.7000             92300.0   \n",
       "20431       741.0       349.0         1.8672             84700.0   \n",
       "20432      1387.0       530.0         2.3886             89400.0   \n",
       "\n",
       "       ocean_proximity  \n",
       "0                    3  \n",
       "1                    3  \n",
       "2                    3  \n",
       "3                    3  \n",
       "4                    3  \n",
       "...                ...  \n",
       "20428                1  \n",
       "20429                1  \n",
       "20430                1  \n",
       "20431                1  \n",
       "20432                1  \n",
       "\n",
       "[20433 rows x 10 columns]"
      ]
     },
     "execution_count": 165,
     "metadata": {},
     "output_type": "execute_result"
    }
   ],
   "source": [
    "data = pd.read_csv('housing_clean.csv')\n",
    "data"
   ]
  },
  {
   "cell_type": "code",
   "execution_count": 167,
   "id": "c529b7b7-fc10-40d4-89c8-7684dcf82543",
   "metadata": {},
   "outputs": [
    {
     "data": {
      "text/plain": [
       "Index(['longitude', 'latitude', 'housing_median_age', 'total_rooms',\n",
       "       'total_bedrooms', 'population', 'households', 'median_income',\n",
       "       'median_house_value', 'ocean_proximity'],\n",
       "      dtype='object')"
      ]
     },
     "execution_count": 167,
     "metadata": {},
     "output_type": "execute_result"
    }
   ],
   "source": [
    "data.columns"
   ]
  },
  {
   "cell_type": "code",
   "execution_count": 169,
   "id": "56a55811-9c69-4133-aabc-ae326c119981",
   "metadata": {},
   "outputs": [],
   "source": [
    "label = 'median_house_value'"
   ]
  },
  {
   "cell_type": "markdown",
   "id": "f8d48d99-965b-4483-be42-9e8fe713958d",
   "metadata": {},
   "source": [
    "### Min-max scaling"
   ]
  },
  {
   "cell_type": "code",
   "execution_count": 172,
   "id": "2db2d266-3000-4fa7-8ce8-2f28a1659755",
   "metadata": {},
   "outputs": [],
   "source": [
    "for feature in data.columns:\n",
    "    if feature == label : continue\n",
    "\n",
    "    data[feature] = (data[feature] - data[feature].min())/(data[feature].max() - data[feature].min())"
   ]
  },
  {
   "cell_type": "code",
   "execution_count": 174,
   "id": "08a449dc-b36b-448d-ae56-1fb0b76165a4",
   "metadata": {},
   "outputs": [
    {
     "data": {
      "text/html": [
       "<div>\n",
       "<style scoped>\n",
       "    .dataframe tbody tr th:only-of-type {\n",
       "        vertical-align: middle;\n",
       "    }\n",
       "\n",
       "    .dataframe tbody tr th {\n",
       "        vertical-align: top;\n",
       "    }\n",
       "\n",
       "    .dataframe thead th {\n",
       "        text-align: right;\n",
       "    }\n",
       "</style>\n",
       "<table border=\"1\" class=\"dataframe\">\n",
       "  <thead>\n",
       "    <tr style=\"text-align: right;\">\n",
       "      <th></th>\n",
       "      <th>longitude</th>\n",
       "      <th>latitude</th>\n",
       "      <th>housing_median_age</th>\n",
       "      <th>total_rooms</th>\n",
       "      <th>total_bedrooms</th>\n",
       "      <th>population</th>\n",
       "      <th>households</th>\n",
       "      <th>median_income</th>\n",
       "      <th>median_house_value</th>\n",
       "      <th>ocean_proximity</th>\n",
       "    </tr>\n",
       "  </thead>\n",
       "  <tbody>\n",
       "    <tr>\n",
       "      <th>0</th>\n",
       "      <td>0.211155</td>\n",
       "      <td>0.567481</td>\n",
       "      <td>0.784314</td>\n",
       "      <td>0.022331</td>\n",
       "      <td>0.019863</td>\n",
       "      <td>0.008941</td>\n",
       "      <td>0.020556</td>\n",
       "      <td>0.539668</td>\n",
       "      <td>452600.0</td>\n",
       "      <td>0.75</td>\n",
       "    </tr>\n",
       "    <tr>\n",
       "      <th>1</th>\n",
       "      <td>0.212151</td>\n",
       "      <td>0.565356</td>\n",
       "      <td>0.392157</td>\n",
       "      <td>0.180503</td>\n",
       "      <td>0.171477</td>\n",
       "      <td>0.067210</td>\n",
       "      <td>0.186976</td>\n",
       "      <td>0.538027</td>\n",
       "      <td>358500.0</td>\n",
       "      <td>0.75</td>\n",
       "    </tr>\n",
       "    <tr>\n",
       "      <th>2</th>\n",
       "      <td>0.210159</td>\n",
       "      <td>0.564293</td>\n",
       "      <td>1.000000</td>\n",
       "      <td>0.037260</td>\n",
       "      <td>0.029330</td>\n",
       "      <td>0.013818</td>\n",
       "      <td>0.028943</td>\n",
       "      <td>0.466028</td>\n",
       "      <td>352100.0</td>\n",
       "      <td>0.75</td>\n",
       "    </tr>\n",
       "    <tr>\n",
       "      <th>3</th>\n",
       "      <td>0.209163</td>\n",
       "      <td>0.564293</td>\n",
       "      <td>1.000000</td>\n",
       "      <td>0.032352</td>\n",
       "      <td>0.036313</td>\n",
       "      <td>0.015555</td>\n",
       "      <td>0.035849</td>\n",
       "      <td>0.354699</td>\n",
       "      <td>341300.0</td>\n",
       "      <td>0.75</td>\n",
       "    </tr>\n",
       "    <tr>\n",
       "      <th>4</th>\n",
       "      <td>0.209163</td>\n",
       "      <td>0.564293</td>\n",
       "      <td>1.000000</td>\n",
       "      <td>0.041330</td>\n",
       "      <td>0.043296</td>\n",
       "      <td>0.015752</td>\n",
       "      <td>0.042427</td>\n",
       "      <td>0.230776</td>\n",
       "      <td>342200.0</td>\n",
       "      <td>0.75</td>\n",
       "    </tr>\n",
       "  </tbody>\n",
       "</table>\n",
       "</div>"
      ],
      "text/plain": [
       "   longitude  latitude  housing_median_age  total_rooms  total_bedrooms  \\\n",
       "0   0.211155  0.567481            0.784314     0.022331        0.019863   \n",
       "1   0.212151  0.565356            0.392157     0.180503        0.171477   \n",
       "2   0.210159  0.564293            1.000000     0.037260        0.029330   \n",
       "3   0.209163  0.564293            1.000000     0.032352        0.036313   \n",
       "4   0.209163  0.564293            1.000000     0.041330        0.043296   \n",
       "\n",
       "   population  households  median_income  median_house_value  ocean_proximity  \n",
       "0    0.008941    0.020556       0.539668            452600.0             0.75  \n",
       "1    0.067210    0.186976       0.538027            358500.0             0.75  \n",
       "2    0.013818    0.028943       0.466028            352100.0             0.75  \n",
       "3    0.015555    0.035849       0.354699            341300.0             0.75  \n",
       "4    0.015752    0.042427       0.230776            342200.0             0.75  "
      ]
     },
     "execution_count": 174,
     "metadata": {},
     "output_type": "execute_result"
    }
   ],
   "source": [
    "data.head()"
   ]
  },
  {
   "cell_type": "code",
   "execution_count": 176,
   "id": "60253e47-344f-4254-8324-ee5afab46eaf",
   "metadata": {},
   "outputs": [],
   "source": [
    "train_data = data[:int(0.8*len(data))]\n",
    "test_data = data[int(0.8*len(data)):]"
   ]
  },
  {
   "cell_type": "code",
   "execution_count": 178,
   "id": "3d9797e3-7359-413b-8724-21060a87386a",
   "metadata": {},
   "outputs": [],
   "source": [
    "train_data_X = train_data.drop(label,axis=1)\n",
    "train_data_Y = train_data[label]\n",
    "test_data_X = test_data.drop(label,axis=1)\n",
    "test_data_Y = test_data[label]"
   ]
  },
  {
   "cell_type": "markdown",
   "id": "0e70d50c-2567-4b35-aacb-212865af48d8",
   "metadata": {},
   "source": [
    "## Defining the model"
   ]
  },
  {
   "cell_type": "markdown",
   "id": "913d9400-5663-437d-a6e9-465ed45f4ce1",
   "metadata": {},
   "source": [
    "### Notations\n",
    "\n",
    "$$\\large b \\rightarrow \\text{Bias value}$$\n",
    "\n",
    "$$\\large W \\rightarrow \\text{Weight vector}$$\n",
    "\n",
    "$$\\large \\hat y \\rightarrow \\text{Model output}$$\n",
    "\n",
    "### Forward Pass\n",
    "\n",
    "$$\\large \\hat y = W \\cdot x + b$$\n",
    "\n",
    "$$\\large \\mathcal{L} = \\frac{1}{N}\\sum_{i=1}^N (y_i - \\hat y_i)^2 = \\frac{1}{N}\\sum_{i=1}^N (y_i - W \\cdot x + b)^2$$\n",
    "\n",
    "### Backward Pass\n",
    "\n",
    "$$\\large \\boxed{\\frac{\\partial \\mathcal{L}}{\\partial W} = -2\\sum\\limits_{i=1}^N (y_i - \\hat y_i)x}$$\n",
    "\n",
    "$$\\large \\boxed{\\frac{\\partial \\mathcal{L}}{\\partial b} = -2\\sum\\limits_{i=1}^N (y_i - \\hat y_i)}$$"
   ]
  },
  {
   "cell_type": "code",
   "execution_count": 182,
   "id": "44ecc958-9053-43d2-99ab-f10d3004a6d6",
   "metadata": {},
   "outputs": [],
   "source": [
    "class Linear:\n",
    "    def __init__(self, dim):\n",
    "        self.dim = dim\n",
    "        self.w = np.random.random((self.dim, 1))\n",
    "        self.b = np.random.random()\n",
    "        \n",
    "    def forward (self, x):\n",
    "        return np.dot(x,self.w) + self.b\n",
    "\n",
    "    def backward(self,X, y, y_pred, learning_rate = 0.001, ridge_lambda = 0 , lasso_lambda = 0):\n",
    "        self.w -= learning_rate*2*np.dot(X.T, (y_pred - y))/len(y) + 2*ridge_lambda*self.w + 2*lasso_lambda*np.sign(self.w)\n",
    "        self.b -= learning_rate*2*np.mean(y_pred - y)\n",
    "        return np.mean((y - y_pred)**2)\n",
    "\n",
    "def calculate_mae(y_true, y_pred):\n",
    "    return np.mean(np.abs(y_true-y_pred))"
   ]
  },
  {
   "cell_type": "markdown",
   "id": "dc9a38c1-98e4-4750-977c-5f33204f1144",
   "metadata": {},
   "source": [
    "## Simple Linear Regression"
   ]
  },
  {
   "cell_type": "code",
   "execution_count": 185,
   "id": "bc7daa4a-c2b1-4171-8e4f-7f512ce5ee8e",
   "metadata": {
    "scrolled": true
   },
   "outputs": [
    {
     "name": "stdout",
     "output_type": "stream",
     "text": [
      "Epoch : 2000 MSE Loss : 5590550815.19857\n",
      "Epoch : 4000 MSE Loss : 5391299609.150421\n",
      "Epoch : 6000 MSE Loss : 5291860990.305145\n",
      "Epoch : 8000 MSE Loss : 5228538626.117351\n",
      "Epoch : 10000 MSE Loss : 5181158021.052024\n",
      "Epoch : 12000 MSE Loss : 5142850954.788709\n",
      "Epoch : 14000 MSE Loss : 5110896416.999804\n",
      "Epoch : 16000 MSE Loss : 5083926968.927662\n",
      "Epoch : 18000 MSE Loss : 5061067321.507301\n",
      "Epoch : 20000 MSE Loss : 5041660849.19821\n"
     ]
    },
    {
     "data": {
      "image/png": "[encoded data removed]",
      "text/plain": [
       "<Figure size 640x480 with 1 Axes>"
      ]
     },
     "metadata": {},
     "output_type": "display_data"
    }
   ],
   "source": [
    "num_feats = len(train_data_X.columns)\n",
    "linear = Linear(num_feats)\n",
    "\n",
    "loss_list = []\n",
    "epochs = 20000\n",
    "lr = 0.1\n",
    "\n",
    "X = train_data_X.values\n",
    "y_true = train_data_Y.values.reshape(-1, 1)\n",
    "\n",
    "for epoch in range(epochs):\n",
    "    if ((epoch+1)%(epochs/10)==0): print(\"Epoch :\",epoch+1, \"MSE Loss :\", loss)\n",
    "    y_pred = linear.forward(X)\n",
    "    loss = linear.backward(X, y_true, y_pred, lr)\n",
    "    loss_list.append(loss)\n",
    "\n",
    "plt.plot(loss_list)\n",
    "plt.show()"
   ]
  },
  {
   "cell_type": "markdown",
   "id": "50b2f13d-5bd1-48b2-817b-a7c3ad5df770",
   "metadata": {},
   "source": [
    "### Evaluation of simple linear regression"
   ]
  },
  {
   "cell_type": "code",
   "execution_count": 187,
   "id": "2cb0b7f6-b45a-418b-b562-763d04f80a63",
   "metadata": {},
   "outputs": [
    {
     "name": "stdout",
     "output_type": "stream",
     "text": [
      "Test MAE : 49625.83371450173\n",
      "Train MAE : 51999.73265241872\n"
     ]
    }
   ],
   "source": [
    "X = test_data_X.values\n",
    "y_pred = linear.forward(X)\n",
    "y_true = test_data_Y.values.reshape(-1,1)\n",
    "\n",
    "print(\"Test MAE :\",calculate_mae(y_true,y_pred))\n",
    "\n",
    "X = train_data_X.values\n",
    "y_pred = linear.forward(X)\n",
    "y_true = train_data_Y.values.reshape(-1, 1)\n",
    "\n",
    "print(\"Train MAE :\",calculate_mae(y_true,y_pred))"
   ]
  },
  {
   "cell_type": "markdown",
   "id": "25f9b2a1-aaba-4fb0-830e-3be42e5cd216",
   "metadata": {},
   "source": [
    "## Linear Regression with Ridge"
   ]
  },
  {
   "cell_type": "code",
   "execution_count": 189,
   "id": "4faeda35-f19e-434a-be05-658ad9b7b76f",
   "metadata": {},
   "outputs": [
    {
     "name": "stdout",
     "output_type": "stream",
     "text": [
      "Epoch : 2000 MSE Loss : 5595737553.113107\n",
      "Epoch : 4000 MSE Loss : 5402430878.3962555\n",
      "Epoch : 6000 MSE Loss : 5307805332.523314\n",
      "Epoch : 8000 MSE Loss : 5249131354.471327\n",
      "Epoch : 10000 MSE Loss : 5206639314.655622\n",
      "Epoch : 12000 MSE Loss : 5173354960.031634\n",
      "Epoch : 14000 MSE Loss : 5146326159.779427\n",
      "Epoch : 16000 MSE Loss : 5123991832.8773365\n",
      "Epoch : 18000 MSE Loss : 5105355788.168804\n",
      "Epoch : 20000 MSE Loss : 5089703689.607876\n"
     ]
    },
    {
     "data": {
      "image/png": "[encoded data removed]",
      "text/plain": [
       "<Figure size 640x480 with 1 Axes>"
      ]
     },
     "metadata": {},
     "output_type": "display_data"
    }
   ],
   "source": [
    "num_feats = len(train_data_X.columns)\n",
    "linear = Linear(num_feats)\n",
    "\n",
    "loss_list = []\n",
    "epochs = 20000\n",
    "lr = 0.1\n",
    "rlr = 0.00001\n",
    "\n",
    "X = train_data_X.values\n",
    "y_true = train_data_Y.values.reshape(-1, 1)\n",
    "\n",
    "for epoch in range(epochs):\n",
    "    if ((epoch+1)%(epochs/10)==0): print(\"Epoch :\",epoch+1, \"MSE Loss :\", loss)\n",
    "    y_pred = linear.forward(X)\n",
    "    loss = linear.backward(X, y_true, y_pred, lr, ridge_lambda = rlr)\n",
    "    loss_list.append(loss)\n",
    "\n",
    "plt.plot(loss_list)\n",
    "plt.show()"
   ]
  },
  {
   "cell_type": "markdown",
   "id": "b18b772e-df93-4004-bfa0-a3fb4504b0ed",
   "metadata": {},
   "source": [
    "### Evaluation of linear regression with ridge"
   ]
  },
  {
   "cell_type": "code",
   "execution_count": 191,
   "id": "70aa7697-06c4-46df-851d-a76292829e60",
   "metadata": {},
   "outputs": [
    {
     "name": "stdout",
     "output_type": "stream",
     "text": [
      "Test MAE with ridge : 49710.73692767016\n",
      "Train MAE with ridge : 52285.60393986245\n"
     ]
    }
   ],
   "source": [
    "X = test_data_X.values\n",
    "y_pred = linear.forward(X)\n",
    "y_true = test_data_Y.values.reshape(-1,1)\n",
    "\n",
    "print(\"Test MAE with ridge :\",calculate_mae(y_true,y_pred))\n",
    "\n",
    "X = train_data_X.values\n",
    "y_pred = linear.forward(X)\n",
    "y_true = train_data_Y.values.reshape(-1, 1)\n",
    "\n",
    "print(\"Train MAE with ridge :\",calculate_mae(y_true,y_pred))"
   ]
  },
  {
   "cell_type": "markdown",
   "id": "f16cb7dc-9d80-43f4-89ce-f940a1559745",
   "metadata": {},
   "source": [
    "## Linear Regression with Lasso"
   ]
  },
  {
   "cell_type": "code",
   "execution_count": 193,
   "id": "5f721c89-caa8-45f3-95f8-5f7354bc9431",
   "metadata": {},
   "outputs": [
    {
     "name": "stdout",
     "output_type": "stream",
     "text": [
      "Epoch : 2000 MSE Loss : 5590596533.306669\n",
      "Epoch : 4000 MSE Loss : 5391376830.058414\n",
      "Epoch : 6000 MSE Loss : 5291958134.482198\n",
      "Epoch : 8000 MSE Loss : 5228648488.7024145\n",
      "Epoch : 10000 MSE Loss : 5181277175.828562\n",
      "Epoch : 12000 MSE Loss : 5142976859.58858\n",
      "Epoch : 14000 MSE Loss : 5111026585.432265\n",
      "Epoch : 16000 MSE Loss : 5084059245.213312\n",
      "Epoch : 18000 MSE Loss : 5061199860.434604\n",
      "Epoch : 20000 MSE Loss : 5041792118.323956\n"
     ]
    },
    {
     "data": {
      "image/png": "[encoded data removed]",
      "text/plain": [
       "<Figure size 640x480 with 1 Axes>"
      ]
     },
     "metadata": {},
     "output_type": "display_data"
    }
   ],
   "source": [
    "num_feats = len(train_data_X.columns)\n",
    "linear = Linear(num_feats)\n",
    "\n",
    "loss_list = []\n",
    "epochs = 20000\n",
    "lr = 0.1\n",
    "llr = 0.01\n",
    "\n",
    "X = train_data_X.values\n",
    "y_true = train_data_Y.values.reshape(-1, 1)\n",
    "\n",
    "for epoch in range(epochs):\n",
    "    if ((epoch+1)%(epochs/10)==0): print(\"Epoch :\",epoch+1, \"MSE Loss :\", loss)\n",
    "    y_pred = linear.forward(X)\n",
    "    loss = linear.backward(X, y_true, y_pred, lr, lasso_lambda = llr)\n",
    "    loss_list.append(loss)\n",
    "\n",
    "plt.plot(loss_list)\n",
    "plt.show()"
   ]
  },
  {
   "cell_type": "markdown",
   "id": "d06623e7-ed8d-44bb-a7a8-536cc671a824",
   "metadata": {},
   "source": [
    "### Evaluation of linear regression with lasso"
   ]
  },
  {
   "cell_type": "code",
   "execution_count": 195,
   "id": "dffa055a-6dc0-4bdc-b92a-2fa5efa92ab2",
   "metadata": {},
   "outputs": [
    {
     "name": "stdout",
     "output_type": "stream",
     "text": [
      "Test MAE with lasso : 49626.05624082952\n",
      "Train MAE with lasso : 52000.57272967312\n"
     ]
    }
   ],
   "source": [
    "X = test_data_X.values\n",
    "y_pred = linear.forward(X)\n",
    "y_true = test_data_Y.values.reshape(-1,1)\n",
    "\n",
    "print(\"Test MAE with lasso :\",calculate_mae(y_true,y_pred))\n",
    "\n",
    "X = train_data_X.values\n",
    "y_pred = linear.forward(X)\n",
    "y_true = train_data_Y.values.reshape(-1, 1)\n",
    "\n",
    "print(\"Train MAE with lasso :\",calculate_mae(y_true,y_pred))"
   ]
  },
  {
   "cell_type": "code",
   "execution_count": null,
   "id": "a3dd34e0-0ade-4662-822c-0648bebba8f9",
   "metadata": {},
   "outputs": [],
   "source": []
  }
 ],
 "metadata": {
  "kernelspec": {
   "display_name": "Python 3 (ipykernel)",
   "language": "python",
   "name": "python3"
  },
  "language_info": {
   "codemirror_mode": {
    "name": "ipython",
    "version": 3
   },
   "file_extension": ".py",
   "mimetype": "text/x-python",
   "name": "python",
   "nbconvert_exporter": "python",
   "pygments_lexer": "ipython3",
   "version": "3.10.14"
  }
 },
 "nbformat": 4,
 "nbformat_minor": 5
}
