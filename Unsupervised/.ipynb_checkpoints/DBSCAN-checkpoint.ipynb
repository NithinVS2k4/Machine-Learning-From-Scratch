{
 "cells": [
  {
   "cell_type": "markdown",
   "id": "8c563bcf-afa9-4bde-8400-3eb3c6781668",
   "metadata": {},
   "source": [
    "# DBSCAN"
   ]
  },
  {
   "cell_type": "markdown",
   "id": "0ae74a54-d558-4692-b03e-063a75e0c43d",
   "metadata": {},
   "source": [
    "## Importing libraries"
   ]
  },
  {
   "cell_type": "code",
   "execution_count": 1,
   "id": "8011657b-b6d4-415f-b020-9d28b2fd866f",
   "metadata": {},
   "outputs": [],
   "source": [
    "import numpy as np\n",
    "import matplotlib.pyplot as plt\n",
    "from sklearn.datasets import make_blobs\n",
    "import colorsys\n",
    "import time"
   ]
  },
  {
   "cell_type": "markdown",
   "id": "95e07fad-acb3-413f-ac9a-ac504b3067fe",
   "metadata": {},
   "source": [
    "## Defining the algorithm"
   ]
  },
  {
   "cell_type": "markdown",
   "id": "c9360451-45a7-4d64-8c53-7382375a799b",
   "metadata": {},
   "source": [
    "### Core idea\n",
    "\n",
    "DBSCAN clustering has two parameters - $\\text{minPts }$and $\\varepsilon$. \n",
    "\n",
    "A point is said to be a core point if the neighbourhood of radius $\\varepsilon$ has atleast $\\text{minPts}$ points around it, including itself.\n",
    "\n",
    "All the points start off as unlabelled. If a point is unlabelled and has a sufficiently dense neighbourhood, then that point is a new cluster. All the points inside the neighbourhood are then put inside a queue. We deque each member and add their neighbourhoods to the queue if the member turns out to be a core point.\n",
    "\n",
    "If a point is unlabelled and is not a core point then it is labelled as noise. This label may be changed later if it becomes part of some other cluster.\n",
    "\n",
    "### Algorithm\n",
    "\n",
    "$$\n",
    "\\begin{array}{ll}\n",
    "C \\gets 0 & \\text{/* Cluster counter */} \\\\\n",
    "\\textbf{for each } P \\text{ in } X \\textbf{ do } & \\\\\n",
    "\\quad \\quad \\textbf{if } label(P) \\neq \\text{undefined} \\textbf{ then continue} & \\text{/* Skip if processed */} \\\\\n",
    "\\quad\\quad N \\gets \\text{WithinBounds}(X, P, \\varepsilon) & \\text{/* Find neighbors */} \\\\\n",
    "\\quad\\quad \\textbf{if } |N| < \\text{minPts} \\textbf{ then } & \\\\\n",
    "\\quad \\quad\\quad\\quad label(P) \\gets \\text{Noise} & \\text{/* Mark as noise */} \\\\\n",
    "\\quad \\quad\\quad\\quad \\textbf{continue} & \\\\\n",
    "\\quad\\quad C \\gets C + 1 & \\text{/* New cluster ID */} \\\\\n",
    "\\quad\\quad label(P) \\gets C & \\\\\n",
    "\\quad\\quad S \\gets N \\setminus \\{P\\} & \\text{/* Initialize expansion set */} \\\\\n",
    "\\quad\\quad \\textbf{while } S \\text{ is not empty} \\textbf{ do } & \\\\\n",
    "\\quad\\quad\\quad \\quad Q \\gets \\text{dequeue}(S) & \\\\\n",
    "\\quad\\quad\\quad \\quad \\textbf{if } label(Q) = \\text{Noise} \\textbf{ then } label(Q) \\gets C & \\text{/* Convert noise to border point */} \\\\\n",
    "\\quad\\quad\\quad \\quad \\textbf{if } label(Q) \\neq \\text{undefined} \\textbf{ then continue} & \\text{/* Skip if processed */} \\\\\n",
    "\\quad\\quad\\quad \\quad label(Q) \\gets C & \\text{/* Assign cluster */} \\\\\n",
    "\\quad\\quad\\quad \\quad N' \\gets \\text{WithinBounds}(X,  Q, \\varepsilon) & \\\\\n",
    "\\quad\\quad\\quad \\quad \\textbf{if } |N'| \\geq \\text{minPts} \\textbf{ then } S \\gets S \\cup N' & \\text{/* Expand cluster */} \\\\\n",
    "\\textbf{end for} &\n",
    "\\end{array}\n",
    "$$\n"
   ]
  },
  {
   "cell_type": "code",
   "execution_count": null,
   "id": "72efdef9-a07d-45bb-9926-a207ed8fcafd",
   "metadata": {},
   "outputs": [],
   "source": []
  },
  {
   "cell_type": "code",
   "execution_count": 3,
   "id": "1fc7f08a-a49d-4eef-be1c-9e58805b2b73",
   "metadata": {},
   "outputs": [],
   "source": [
    "class DBSCAN:\n",
    "    def __init__(self, X, minPts, epsilon):\n",
    "        self.X = X  # X is the dataset\n",
    "        self.epsilon = epsilon  # epsilon is the distance within which the number of points must be considered\n",
    "        self.minPts = minPts  # minPts is the minimum number of points required to consider a point a core point\n",
    "        self.y_pred = np.full(X.shape[0], np.nan)  # Labels each point, default is np.nan since -1 is used for noise\n",
    "\n",
    "    # Returns all the points that is within epsilon distance from a point\n",
    "    def within_bounds(self, core):\n",
    "        # Calculate the Euclidean distances from the core point to all other points\n",
    "        distances = np.linalg.norm(self.X - core, axis=1)\n",
    "\n",
    "        # Get the points within the epsilon distance\n",
    "        neighbours = self.X[distances <= self.epsilon]\n",
    "\n",
    "        return neighbours\n",
    "\n",
    "    # Runs the DBSCAN algorithm\n",
    "    def run(self):\n",
    "        start = time.time_ns()\n",
    "        # Starts the cluster index at -1. It gets incremented to zero before the first cluster assignment. Lowest cluster number is 0\n",
    "        cluster = -1\n",
    "        # Loops through all the points in the dataset\n",
    "        for i, point in enumerate(self.X):\n",
    "            # If the point P has not been labelled in an earlier loop, continue\n",
    "            if np.isnan(self.y_pred[i]):\n",
    "                neighbours = np.copy(\n",
    "                    self.within_bounds(point))  # Get all the points within a distance epsilon from point P\n",
    "                if neighbours.shape[0] < self.minPts:  # If the number of points is less than minPts, assign it as noise\n",
    "                    self.y_pred[i] = -1  # Setting to noise label\n",
    "\n",
    "                # If the number of neighbouring points is >= minPts, the point P is a core point and is a new cluster\n",
    "                else:\n",
    "                    cluster += 1  # Increment cluster index before assigning\n",
    "                    self.y_pred[i] = cluster\n",
    "                    seeds = np.array(list(set(map(tuple, neighbours)) - {tuple(\n",
    "                        point)}))  # Potential core points that surround point P that belong to the same cluster excluding P itself\n",
    "                    # Loops through all the potential seed in seeds\n",
    "                    for seed in seeds:\n",
    "                        index = np.where(self.X == seed)[0][0]  # Gets the index of each seed point S\n",
    "                        if self.y_pred[\n",
    "                            index] == -1:  # If label of S is noise, set it to be the current cluster (It cant be a core point because it was previously labelled as noise)\n",
    "                            self.y_pred[index] = cluster\n",
    "                        if np.isnan(self.y_pred[\n",
    "                                        index]):  # If the label is not defined, set it as the current cluster and check if S is a core point\n",
    "                            self.y_pred[index] = cluster\n",
    "                            seed_neighbours = np.copy(self.within_bounds(seed))  # Get all the neighbour of seed S\n",
    "                            mask = np.array([not np.all(neighbour == seed) for neighbour in\n",
    "                                             seed_neighbours])  # Get all the neighbours of S except S itself\n",
    "                            seed_neighbours = seed_neighbours[mask]\n",
    "                            if seed_neighbours.shape[0] >= self.minPts:\n",
    "                                seeds = np.vstack(\n",
    "                                    (seeds, seed_neighbours))  # Append all the new seed_neighbours to seeds list\n",
    "        end = time.time_ns()\n",
    "        print((1e-6 * (end - start)) // 1, 'milliseconds taken')\n",
    "        return self.y_pred\n"
   ]
  },
  {
   "cell_type": "code",
   "execution_count": 57,
   "id": "dc19d77c-4041-457d-82cb-f80d36f00db1",
   "metadata": {},
   "outputs": [
    {
     "name": "stdin",
     "output_type": "stream",
     "text": [
      "Do you want default params? Y/N :  y\n"
     ]
    },
    {
     "name": "stdout",
     "output_type": "stream",
     "text": [
      "Seed : 944\n",
      "185.0 milliseconds taken\n",
      "1 iterations to converge.\n",
      "3 clusters\n"
     ]
    },
    {
     "data": {
      "image/png": "[encoded data removed]",
      "text/plain": [
       "<Figure size 640x480 with 1 Axes>"
      ]
     },
     "metadata": {},
     "output_type": "display_data"
    }
   ],
   "source": [
    "WHITE = (255, 255, 255)\n",
    "GREY = (195, 195, 195)\n",
    "BLACK = (0, 0, 0)\n",
    "\n",
    "\n",
    "# Color function to generate distinct colors based on a seed/number\n",
    "# I stole this code. Don't know why or how it works. Just needed random colors\n",
    "def colors(num):\n",
    "    if num == -1:\n",
    "        return np.array(GREY)/255\n",
    "    hue = (num * 137.508) % 360  # Use golden angle approximation and keep the hue within [0, 360)\n",
    "    saturation = 0.8\n",
    "    lightness = 0.5\n",
    "\n",
    "    r, g, b = colorsys.hls_to_rgb(hue / 360, lightness, saturation)\n",
    "\n",
    "    return np.array([r,g,b])\n",
    "\n",
    "# Returns a gaussian mixture with desired number of clusters\n",
    "def get_random_data(num_points, centers, seed=None):\n",
    "    if seed is None:\n",
    "        seed = np.random.randint(1, 1000)\n",
    "    print(f\"Seed : {seed}\")\n",
    "    X, Y = make_blobs(n_samples=num_points, n_features=2, centers=centers, cluster_std=1.0, random_state=seed)\n",
    "    # Returns both the datapoints and the actual cluster numbers, although it is not used\n",
    "    return X, Y, seed\n",
    "\n",
    "\n",
    "# Displays the datapoints as well as the centroids (if any)\n",
    "def show_data(X, Y_pred):\n",
    "    plt.scatter(X[:,0],X[:,1],color = [colors(label) for label in Y_pred])\n",
    "    plt.show()\n",
    "\n",
    "\n",
    "def setup_dbscan(X, minPts, epsilon):\n",
    "    cluster = DBSCAN(X, minPts, epsilon)\n",
    "    y_pred_hist = np.asarray([cluster.run()], dtype='int32')\n",
    "    return y_pred_hist\n",
    "    \n",
    "\n",
    "def distortion(X, y_pred, centroid):\n",
    "    centroid = np.asarray(centroid)\n",
    "    distortion = 0\n",
    "    for i in range(X.shape[0]):\n",
    "        # print(i, X[i], y_pred[i], centroid[y_pred[i]], np.linalg.norm(X[i] - centroid[y_pred[i]]))\n",
    "        distortion += np.linalg.norm(X[i] - centroid[y_pred[i]])\n",
    "    return distortion / X.shape[0]\n",
    "\n",
    "def menu_driven(default_params = None):\n",
    "    if default_params is None:\n",
    "        centers = int(input(\"Enter number of centers for the random data : \"))\n",
    "        \n",
    "        minPts = int(input(\"Enter minPts : \"))\n",
    "        \n",
    "        eps = float(input(\"Enter epsilon : \"))\n",
    "    \n",
    "        seed = input(\"Enter the seed if any. Type None for random seed : \")\n",
    "        if seed.lower() == \"none\":\n",
    "            seed = None\n",
    "        else:\n",
    "            seed = int(seed)\n",
    "    \n",
    "        num_points = int(input(\"Enter the number of points : \"))\n",
    "    else:\n",
    "        centers, minPts, eps, seed, num_points = default_params\n",
    "\n",
    "    X, _, seed = get_random_data(num_points, centers, seed)\n",
    "    \n",
    "    y_pred_hist = setup_dbscan(X, minPts, eps)\n",
    "\n",
    "    print(f\"{len(y_pred_hist)} iterations to converge.\")\n",
    "    print(np.max(y_pred_hist) + 1, \"clusters\")\n",
    "\n",
    "    return X, y_pred_hist\n",
    "\n",
    "op = input(\"Do you want default params? Y/N : \")\n",
    "if op.lower() == 'y':\n",
    "    def_params = [3, 20, 5, None, 500]\n",
    "else:\n",
    "    def_params = None\n",
    "\n",
    "X, y_pred_hist = menu_driven(def_params)\n",
    "show_data(X,np.asarray(y_pred_hist[-1]))"
   ]
  },
  {
   "cell_type": "code",
   "execution_count": null,
   "id": "bd310987-93af-470b-83e4-fc637eb88cc4",
   "metadata": {},
   "outputs": [],
   "source": []
  }
 ],
 "metadata": {
  "kernelspec": {
   "display_name": "Python 3 (ipykernel)",
   "language": "python",
   "name": "python3"
  },
  "language_info": {
   "codemirror_mode": {
    "name": "ipython",
    "version": 3
   },
   "file_extension": ".py",
   "mimetype": "text/x-python",
   "name": "python",
   "nbconvert_exporter": "python",
   "pygments_lexer": "ipython3",
   "version": "3.10.14"
  }
 },
 "nbformat": 4,
 "nbformat_minor": 5
}
